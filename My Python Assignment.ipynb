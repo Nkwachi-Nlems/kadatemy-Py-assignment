{
 "cells": [
  {
   "cell_type": "code",
   "execution_count": null,
   "id": "ac8b92c8",
   "metadata": {},
   "outputs": [],
   "source": [
    "A variable is a name given to or that refers to a value."
   ]
  },
  {
   "cell_type": "code",
   "execution_count": null,
   "id": "1fce3116",
   "metadata": {},
   "outputs": [],
   "source": [
    "a. name = \"Nkwachi\"\n",
    "b. weight = \"75kg\"\n",
    "c. numbers = 123456789\n",
    "d. letters = abcdefghijk\n",
    "e. height = \"5'9\", \"175.26cm\""
   ]
  },
  {
   "cell_type": "code",
   "execution_count": null,
   "id": "9c7f370a",
   "metadata": {},
   "outputs": [],
   "source": [
    "b = False - bool \n",
    "number = '1000' - string \n",
    "radius = 7.0 - float \n",
    "diameter = 14 - integer \n",
    "country = 'Nigeria' - string"
   ]
  },
  {
   "cell_type": "code",
   "execution_count": null,
   "id": "bab830f7",
   "metadata": {},
   "outputs": [],
   "source": [
    "\"You're right, he wont agree to this deal.\""
   ]
  },
  {
   "cell_type": "code",
   "execution_count": 1,
   "id": "b6428382",
   "metadata": {},
   "outputs": [
    {
     "data": {
      "text/plain": [
       "False"
      ]
     },
     "execution_count": 1,
     "metadata": {},
     "output_type": "execute_result"
    }
   ],
   "source": [
    "word = \"15.55\"\n",
    "word.islower()"
   ]
  },
  {
   "cell_type": "code",
   "execution_count": 2,
   "id": "49a83835",
   "metadata": {},
   "outputs": [
    {
     "name": "stdout",
     "output_type": "stream",
     "text": [
      "There are 25 and 40 goat in the man's compound\n"
     ]
    }
   ],
   "source": [
    "cows = 25\n",
    "goats = 40\n",
    "print( \"There are {} and {} goat in the man's compound\". format(25,40))"
   ]
  },
  {
   "cell_type": "code",
   "execution_count": 3,
   "id": "25cb0df2",
   "metadata": {},
   "outputs": [
    {
     "name": "stdout",
     "output_type": "stream",
     "text": [
      "Faith acessed the site http://kadatemy.com/courses/pythonfordatascience/class1 at 07:20\n"
     ]
    }
   ],
   "source": [
    "username = \"Amina\"\n",
    "timestamp = \"09:20\"\n",
    "url = \"http://kadatemy.com/courses/pythonfordatascience/class1\"\n",
    "username2 = \"Faith\"\n",
    "timestamp2 = \"07:20\"\n",
    "print('{} acessed the site http://kadatemy.com/courses/pythonfordatascience/class1 at {}'.format(username2,timestamp2))"
   ]
  },
  {
   "cell_type": "code",
   "execution_count": 5,
   "id": "7ca0d420",
   "metadata": {},
   "outputs": [
    {
     "name": "stdout",
     "output_type": "stream",
     "text": [
      "95\n"
     ]
    }
   ],
   "source": [
    "str1 = \"Python exercises are fun. It is very satisfying to solve problems using this computer language.\"\n",
    "print(len(str1))"
   ]
  },
  {
   "cell_type": "code",
   "execution_count": 6,
   "id": "1804c3e5",
   "metadata": {},
   "outputs": [
    {
     "name": "stdout",
     "output_type": "stream",
     "text": [
      "P\n"
     ]
    }
   ],
   "source": [
    "str1 = \"Python exercises are fun. It is very satisfying to solve problems using this computer language.\"\n",
    "print(str1[0])"
   ]
  },
  {
   "cell_type": "code",
   "execution_count": 9,
   "id": "90d0ab20",
   "metadata": {},
   "outputs": [
    {
     "name": "stdout",
     "output_type": "stream",
     "text": [
      "exercise\n"
     ]
    }
   ],
   "source": [
    "print(str1[7:15])"
   ]
  },
  {
   "cell_type": "code",
   "execution_count": 8,
   "id": "f8561a7f",
   "metadata": {},
   "outputs": [
    {
     "name": "stdout",
     "output_type": "stream",
     "text": [
      "True\n"
     ]
    }
   ],
   "source": [
    "print(\"language\" in str1)"
   ]
  },
  {
   "cell_type": "code",
   "execution_count": 12,
   "id": "5fc51bd5",
   "metadata": {},
   "outputs": [
    {
     "name": "stdout",
     "output_type": "stream",
     "text": [
      "language\n"
     ]
    }
   ],
   "source": [
    "print(str1[-9:-1])"
   ]
  },
  {
   "cell_type": "code",
   "execution_count": 13,
   "id": "f953e756",
   "metadata": {},
   "outputs": [
    {
     "data": {
      "text/plain": [
       "\"i'm enjoying this a lot! i could do with more exercises\""
      ]
     },
     "execution_count": 13,
     "metadata": {},
     "output_type": "execute_result"
    }
   ],
   "source": [
    "str2 = \"   i'm enjoying this a lot! i could do with more exercises\"\n",
    "str3 = str2.strip()\n",
    "str3"
   ]
  },
  {
   "cell_type": "code",
   "execution_count": 14,
   "id": "dfdadbe8",
   "metadata": {},
   "outputs": [
    {
     "data": {
      "text/plain": [
       "False"
      ]
     },
     "execution_count": 14,
     "metadata": {},
     "output_type": "execute_result"
    }
   ],
   "source": [
    "str2.isnumeric()"
   ]
  },
  {
   "cell_type": "code",
   "execution_count": 15,
   "id": "4b406175",
   "metadata": {},
   "outputs": [
    {
     "data": {
      "text/plain": [
       "3"
      ]
     },
     "execution_count": 15,
     "metadata": {},
     "output_type": "execute_result"
    }
   ],
   "source": [
    "str2.find(\"i\")"
   ]
  },
  {
   "cell_type": "code",
   "execution_count": 16,
   "id": "77d417f9",
   "metadata": {},
   "outputs": [
    {
     "data": {
      "text/plain": [
       "\"Python exercises are fun. It is very satisfying to solve problems using this computer language.i'm enjoying this a lot! i could do with more exercises\""
      ]
     },
     "execution_count": 16,
     "metadata": {},
     "output_type": "execute_result"
    }
   ],
   "source": [
    "str1 = \"Python exercises are fun. It is very satisfying to solve problems using this computer language.\"\n",
    "str2 = \"i'm enjoying this a lot! i could do with more exercises\"\n",
    "str1+str2"
   ]
  },
  {
   "cell_type": "code",
   "execution_count": 17,
   "id": "db9200ad",
   "metadata": {},
   "outputs": [
    {
     "data": {
      "text/plain": [
       "True"
      ]
     },
     "execution_count": 17,
     "metadata": {},
     "output_type": "execute_result"
    }
   ],
   "source": [
    "x = \"3490003\"\n",
    "x.isdigit()"
   ]
  },
  {
   "cell_type": "code",
   "execution_count": 18,
   "id": "de62655f",
   "metadata": {},
   "outputs": [
    {
     "data": {
      "text/plain": [
       "False"
      ]
     },
     "execution_count": 18,
     "metadata": {},
     "output_type": "execute_result"
    }
   ],
   "source": [
    "word = \"15.55\"\n",
    "word.islower()"
   ]
  },
  {
   "cell_type": "code",
   "execution_count": null,
   "id": "bc851006",
   "metadata": {},
   "outputs": [],
   "source": []
  }
 ],
 "metadata": {
  "kernelspec": {
   "display_name": "Python 3",
   "language": "python",
   "name": "python3"
  },
  "language_info": {
   "codemirror_mode": {
    "name": "ipython",
    "version": 3
   },
   "file_extension": ".py",
   "mimetype": "text/x-python",
   "name": "python",
   "nbconvert_exporter": "python",
   "pygments_lexer": "ipython3",
   "version": "3.8.8"
  }
 },
 "nbformat": 4,
 "nbformat_minor": 5
}
